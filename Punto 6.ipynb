{
 "cells": [
  {
   "cell_type": "markdown",
   "metadata": {},
   "source": [
    "# Punto 6: Integración"
   ]
  },
  {
   "cell_type": "markdown",
   "metadata": {},
   "source": [
    "### Punto 1 "
   ]
  },
  {
   "cell_type": "code",
   "execution_count": 1,
   "metadata": {},
   "outputs": [
    {
     "name": "stdout",
     "output_type": "stream",
     "text": [
      "La integral con la Regla de Simpson de 3/8 da como resultado: 0.7439439262277125\n",
      "La integral con la Regla de Simpson de 1/3 da como resultado: 0.7457849986755161\n"
     ]
    }
   ],
   "source": [
    "import numpy as np\n",
    "\n",
    "def func(x_):\n",
    "    return np.exp(-(x_**2))\n",
    "\n",
    "def simpson13(f,X):\n",
    "    \n",
    "    h = (X[-1]-X[0])/(len(X)-1)\n",
    "    \n",
    "    integral = 0.\n",
    "    \n",
    "    integral += f(X[0])+f(X[-1])\n",
    "    \n",
    "    for i in range( len(X[1:-1]) ):\n",
    "        if(i%2 == 0):\n",
    "            integral += 4.*f(X[i+1])\n",
    "                  \n",
    "        else:\n",
    "            integral += 2.*f(X[i+1])\n",
    "            \n",
    "    integral *= h/3.\n",
    "                  \n",
    "                  \n",
    "    return integral\n",
    "\n",
    "def simpson38(f,x_,):\n",
    "    a=x_[0]\n",
    "    b=x_[-1]\n",
    "    h = (b-a)/(len(x_)-1)\n",
    "    integral=0\n",
    "    integral+=f(a)+f(b)\n",
    "    \n",
    "    for i in range(len(x_[1:-1])):\n",
    "        if(i%3==0):\n",
    "            integral += 2.*f(x_[i+1])\n",
    "        else:\n",
    "            integral += 3.*f(x_[i+1])\n",
    "    integral*= 3*h/8\n",
    "    \n",
    "    return integral\n",
    "\n",
    "\n",
    "X=np.linspace(0,1,120)\n",
    "h=0.01\n",
    "\n",
    "print(\"La integral con la Regla de Simpson de 3/8 da como resultado: {}\".format(simpson38(func,X)))\n",
    "print(\"La integral con la Regla de Simpson de 1/3 da como resultado: {}\".format(simpson13(func,X)))"
   ]
  },
  {
   "cell_type": "code",
   "execution_count": 2,
   "metadata": {},
   "outputs": [
    {
     "name": "stdout",
     "output_type": "stream",
     "text": [
      "La integral con la Regla de Simpson de 3/8 da como resultado: 1.499750025557578e-09\n",
      "La integral con la Regla de Simpson de 1/3 da como resultado: 6.665555669144791e-10\n"
     ]
    }
   ],
   "source": [
    "def D4(f,x,h_):\n",
    "    \n",
    "    d = 0.\n",
    "    \n",
    "    if(h_!=0):\n",
    "        d = ( f(x+2*h_) - 4*f(x+h_) + 6*f(x) - 4*f(x-h_) + f(x-2*h_) )/h_**4\n",
    "        \n",
    "    return d\n",
    "D4Y = D4(func,X,h)\n",
    "def ErrorSimpson13(x_,D4Y,h_):\n",
    "    \n",
    "    max_ = np.max(np.abs(D4Y))\n",
    "    \n",
    "    error = ((x_[-1]-x_[0]) * h_**4 * max_ )/180.\n",
    "    \n",
    "    return error\n",
    "\n",
    "def ErrorSimpson38(x_,D4Y,h_):\n",
    "    \n",
    "    max_ = np.max(np.abs(D4Y))\n",
    "    \n",
    "    error = ((x_[-1]-x_[0]) * h_**4 * max_ )/80.\n",
    "    \n",
    "    return error\n",
    "\n",
    "print(\"La integral con la Regla de Simpson de 3/8 da como resultado: {}\".format(ErrorSimpson38(X,D4Y,h)))\n",
    "print(\"La integral con la Regla de Simpson de 1/3 da como resultado: {}\".format(ErrorSimpson13(X,D4Y,h)))"
   ]
  },
  {
   "cell_type": "markdown",
   "metadata": {},
   "source": [
    "El error de la Regla de Simpson de $\\frac{3}{8}$ es mayor al de la Regla de Simpson de $\\frac{1}{3}$. Sin embargo, ambas tienen un orden de magnitud muy pequeño"
   ]
  },
  {
   "cell_type": "markdown",
   "metadata": {},
   "source": [
    "### Punto 2 "
   ]
  },
  {
   "cell_type": "markdown",
   "metadata": {},
   "source": [
    "PUNTO A\n",
    "\n",
    "$p_0(x)=1 \\Rightarrow$ No tiene ceros.\n",
    "\n",
    "$p_1(x)=x \\Rightarrow$ El cero es $x=0$.\n",
    "\n",
    "$p_2(x)=\\frac{1}{2}(3x^2-1) \\Rightarrow$ Los ceros de la función están en $x=\\sqrt{\\frac{1}{3}}$, $x=- \\sqrt{\\frac{1}{3}}$.\n",
    "\n",
    "$p_3(x)=\\frac{1}{2}(5x^3 -3x) \\Rightarrow$ Los ceros de la función están en $x=0$, $x=\\sqrt{\\frac{3}{5}}$, $x=- \\sqrt{\\frac{3}{5}}$.\n",
    "\n",
    "PUNTO B\n",
    "\n",
    "$p(x)=1+2x+x^2$ en la base de Legendre es:\n",
    "\n",
    "$p(x)= \\frac{2}{3}p_2(x) + 2p_1(x) + \\frac{4}{3}p_0(x)$\n"
   ]
  },
  {
   "cell_type": "markdown",
   "metadata": {},
   "source": [
    "PUNTO C\n",
    "\n",
    "$P_2'(x)= 3x$\n",
    "\n",
    "$P_3'(x)= \\frac{1}{2}(15x^2-3)$"
   ]
  },
  {
   "cell_type": "code",
   "execution_count": 3,
   "metadata": {},
   "outputs": [
    {
     "name": "stdout",
     "output_type": "stream",
     "text": [
      "Los pesos para n=2 son $w_1=$1.0, $w_2=$1.0\n",
      "Los pesos para n=3 son $w_1=$0.8888888888888888, $w_2=$0.5555555555555554, $w_3=$0.5555555555555554\n"
     ]
    }
   ],
   "source": [
    "x_3=[np.sqrt(1./3),-np.sqrt(1./3)]\n",
    "x_4=[0, np.sqrt(3./5), -np.sqrt(3./5)]\n",
    "#n=2,3\n",
    "\n",
    "def p2_prima(x):\n",
    "    return 3*x\n",
    "\n",
    "def p3_prima(x):\n",
    "    return (1/2)*(15*x**2-3)\n",
    "\n",
    "def wk(x_,f):\n",
    "    wk_=[]\n",
    "    for x in x_:\n",
    "        wk_.append(2/((1-x**2)*(f(x)**2)))\n",
    "        \n",
    "    return wk_\n",
    "\n",
    "print(\"Los pesos para n=2 son $w_1=${}, $w_2=${}\".format(*wk(x_3,p2_prima)))\n",
    "print(\"Los pesos para n=3 son $w_1=${}, $w_2=${}, $w_3=${}\".format(*wk(x_4,p3_prima)))"
   ]
  },
  {
   "cell_type": "markdown",
   "metadata": {},
   "source": [
    "PUNTO D"
   ]
  },
  {
   "cell_type": "code",
   "execution_count": 4,
   "metadata": {},
   "outputs": [
    {
     "name": "stdout",
     "output_type": "stream",
     "text": [
      "CALCULANDO TODO CON SYMPY:\n",
      "\n",
      "Las funciones peso para n=1 son:\n",
      " [2.00000000000000]\n",
      "\n",
      "Las funciones peso para n=2 son:\n",
      " [1.00000000000000, 1.00000000000000]\n",
      "\n",
      "Las funciones peso para n=3 son:\n",
      " [0.555555555555555, 0.555555555555556, 0.888888888888889]\n",
      "\n",
      "Las funciones peso para n=4 son:\n",
      " [0.347854845137452, 0.347854845137453, 0.652145154862546, 0.652145154862546]\n",
      "\n",
      "Las funciones peso para n=5 son:\n",
      " [0.236926885056188, 0.478628670499366, 0.236926885056190, 0.478628670499367, 0.568888888888889]\n",
      "\n",
      "Las funciones peso para n=6 son:\n",
      " [0.171324492379167, 0.360761573048139, 0.171324492379171, 0.360761573048140, 0.467913934572691, 0.467913934572691]\n",
      "\n",
      "Las funciones peso para n=7 son:\n",
      " [0.129484966168869, 0.279705391489276, 0.381830050505119, 0.129484966168873, 0.279705391489276, 0.381830050505119, 0.417959183673469]\n",
      "\n",
      "Las funciones peso para n=8 son:\n",
      " [0.101228536290374, 0.222381034453372, 0.101228536290378, 0.222381034453374, 0.313706645877888, 0.313706645877887, 0.362683783378362, 0.362683783378362]\n",
      "\n",
      "Las funciones peso para n=9 son:\n",
      " [0.0812743883615800, 0.180648160694857, 0.260610696402936, 0.312347077040003, 0.0812743883615797, 0.180648160694855, 0.260610696402936, 0.312347077040003, 0.330239355001260]\n",
      "\n",
      "Las funciones peso para n=10 son:\n",
      " [0.0666713443086962, 0.149451349150577, 0.219086362515981, 0.0666713443086971, 0.149451349150576, 0.219086362515983, 0.269266719309997, 0.269266719309996, 0.295524224714753, 0.295524224714753]\n",
      "\n",
      "USANDO LEGAUSS:\n",
      "\n",
      "Las funciones peso para n=1 son:\n",
      " [2.]\n",
      "\n",
      "Las funciones peso para n=2 son:\n",
      " [1. 1.]\n",
      "\n",
      "Las funciones peso para n=3 son:\n",
      " [0.55555556 0.88888889 0.55555556]\n",
      "\n",
      "Las funciones peso para n=4 son:\n",
      " [0.34785485 0.65214515 0.65214515 0.34785485]\n",
      "\n",
      "Las funciones peso para n=5 son:\n",
      " [0.23692689 0.47862867 0.56888889 0.47862867 0.23692689]\n",
      "\n",
      "Las funciones peso para n=6 son:\n",
      " [0.17132449 0.36076157 0.46791393 0.46791393 0.36076157 0.17132449]\n",
      "\n",
      "Las funciones peso para n=7 son:\n",
      " [0.12948497 0.27970539 0.38183005 0.41795918 0.38183005 0.27970539\n",
      " 0.12948497]\n",
      "\n",
      "Las funciones peso para n=8 son:\n",
      " [0.10122854 0.22238103 0.31370665 0.36268378 0.36268378 0.31370665\n",
      " 0.22238103 0.10122854]\n",
      "\n",
      "Las funciones peso para n=9 son:\n",
      " [0.08127439 0.18064816 0.2606107  0.31234708 0.33023936 0.31234708\n",
      " 0.2606107  0.18064816 0.08127439]\n",
      "\n",
      "Las funciones peso para n=10 son:\n",
      " [0.06667134 0.14945135 0.21908636 0.26926672 0.29552422 0.29552422\n",
      " 0.26926672 0.21908636 0.14945135 0.06667134]\n",
      "\n"
     ]
    }
   ],
   "source": [
    "import sympy as sym\n",
    "import math\n",
    "\n",
    "def CreatePoly(n):\n",
    "    \n",
    "    x = sym.Symbol('x',real=True)\n",
    "    y = sym.Symbol('y',real=True)\n",
    "    \n",
    "    y = (x**2-1)**n\n",
    "    \n",
    "    poly = sym.diff(y,x,n)/(2**n * math.factorial(n))\n",
    "    \n",
    "    return poly\n",
    "\n",
    "Legendre = [CreatePoly(i) for i in range(11)]\n",
    "    \n",
    " \n",
    "x = sym.Symbol('x',real=True)\n",
    "dLegendre=[sym.diff(l,x,1) for l in Legendre]\n",
    "\n",
    "roots=[]\n",
    "for p in range(1,12):\n",
    "    coef=[Legendre[p-1].expand().coeff(x,n) for n in range(p)][::-1]\n",
    "    root=np.roots(coef)\n",
    "    roots.append(root)\n",
    "\n",
    "def wk_2(x_,f):\n",
    "    wk_2=[]\n",
    "    for xk in x_:\n",
    "        wk_2.append(2/((1-xk**2)*(f.xreplace({x: xk})**2)))\n",
    "    return wk_2\n",
    "\n",
    "print(\"CALCULANDO TODO CON SYMPY:\\n\")\n",
    "\n",
    "for deg in range(1,11):\n",
    "    w=wk_2(roots[deg],dLegendre[deg])\n",
    "    print(\"Las funciones peso para n={} son:\\n {}\\n\".format(deg,w))\n",
    "    \n",
    "print(\"USANDO LEGAUSS:\\n\")\n",
    "\n",
    "for deg in range(1,11):\n",
    "    x, w = np.polynomial.legendre.leggauss(deg)\n",
    "    print(\"Las funciones peso para n={} son:\\n {}\\n\".format(deg,w))"
   ]
  },
  {
   "cell_type": "markdown",
   "metadata": {},
   "source": [
    "Vemos que encontramos exactamente los mismos valores con los dos métodos. El método \"tradicional\" o usando sympy da pesos con un mayor número de cifras decimales."
   ]
  },
  {
   "cell_type": "markdown",
   "metadata": {},
   "source": [
    "PUNTO E\n",
    "\n",
    "Usamos cuadratura de Gauss-Laguerre\n",
    "\n",
    "Se hallan las raices($x_k$) y los pesos($w_k$) con $\\textit{np.polynomial.laguerre.laggauss}$ y se halla la integral de la forma:\n",
    "\n",
    "$I=\\sum_{k=1}^{n} e^{-x_k}w_k f(x_k + 0)$"
   ]
  },
  {
   "cell_type": "code",
   "execution_count": 5,
   "metadata": {},
   "outputs": [
    {
     "name": "stdout",
     "output_type": "stream",
     "text": [
      "Para n=1 la integral es:1.359141\n",
      "Para n=2 la integral es:1.404315\n",
      "Para n=3 la integral es:1.146217\n",
      "Para n=4 la integral es:1.032277\n",
      "Para n=5 la integral es:1.022582\n",
      "Para n=6 la integral es:1.06031\n",
      "Para n=7 la integral es:1.102694\n",
      "Para n=8 la integral es:1.129052\n",
      "Para n=9 la integral es:1.137197\n",
      "Para n=10 la integral es:1.13333\n",
      "Para n=100 la integral es:1.110721\n"
     ]
    }
   ],
   "source": [
    "a = 0\n",
    "\n",
    "def funcion(x_):\n",
    "    return 1/(x_**4+1)\n",
    "\n",
    "for deg in range (1,11):\n",
    "    x, w = np.polynomial.laguerre.laggauss(deg)\n",
    "    t=x+a\n",
    "    Integral= sum(w*np.exp(x)*funcion(t))    \n",
    "    print(\"Para n={} la integral es:{}\".format(deg,round(Integral,6)))\n",
    "\n",
    "x, w = np.polynomial.laguerre.laggauss(100)\n",
    "t=x+a\n",
    "Integral= np.sum(w*np.exp(x)*funcion(t))    \n",
    "print(\"Para n=100 la integral es:{}\".format(round(Integral,6)))"
   ]
  },
  {
   "cell_type": "code",
   "execution_count": null,
   "metadata": {},
   "outputs": [],
   "source": []
  }
 ],
 "metadata": {
  "kernelspec": {
   "display_name": "Python 3",
   "language": "python",
   "name": "python3"
  },
  "language_info": {
   "codemirror_mode": {
    "name": "ipython",
    "version": 3
   },
   "file_extension": ".py",
   "mimetype": "text/x-python",
   "name": "python",
   "nbconvert_exporter": "python",
   "pygments_lexer": "ipython3",
   "version": "3.7.6"
  }
 },
 "nbformat": 4,
 "nbformat_minor": 4
}
