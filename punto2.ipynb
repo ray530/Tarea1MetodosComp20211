{
 "cells": [
  {
   "cell_type": "markdown",
   "metadata": {},
   "source": [
    "# Números primos y Fibonacci"
   ]
  },
  {
   "cell_type": "code",
   "execution_count": 25,
   "metadata": {},
   "outputs": [],
   "source": [
    "import numpy as np\n",
    "import matplotlib.pyplot as plt"
   ]
  },
  {
   "cell_type": "markdown",
   "metadata": {},
   "source": [
    "###  Punto A"
   ]
  },
  {
   "cell_type": "code",
   "execution_count": null,
   "metadata": {},
   "outputs": [],
   "source": [
    "#n1: numero de primos a calcular\n",
    "def calcular_primos(n1):\n",
    "    primos_calculados=0\n",
    "    primos=[]\n",
    "    actual=2\n",
    "    while primos_calculados<n1:\n",
    "        cont_divisores=0\n",
    "        for i in range(1,actual):\n",
    "            if(actual!=i and actual%i==0):\n",
    "                cont_divisores+=1\n",
    "        if(cont_divisores==1):\n",
    "            primos.append(actual)\n",
    "            primos_calculados+=1\n",
    "        actual+=1\n",
    "    return primos"
   ]
  },
  {
   "cell_type": "markdown",
   "metadata": {},
   "source": [
    "### Punto B"
   ]
  },
  {
   "cell_type": "code",
   "execution_count": 35,
   "metadata": {},
   "outputs": [
    {
     "data": {
      "image/png": "[encoded data removed]",
      "text/plain": [
       "<Figure size 432x288 with 1 Axes>"
      ]
     },
     "metadata": {
      "needs_background": "light"
     },
     "output_type": "display_data"
    }
   ],
   "source": [
    "#n2: numero de primos a calcular\n",
    "def plot_primos(n2):\n",
    "    primos=calcular_primos(n2)\n",
    "    posicion=[i for i in range(1,n2+1)]\n",
    "    plt.plot(posicion,primos, 'o', markersize=0.2)\n",
    "    plt.ylabel(\"$primos$\")\n",
    "    plt.xlabel(\"$posicion$\")\n",
    "    plt.title(\"Primos y su posición\")\n",
    "    plt.show()\n",
    "\n",
    "plot_primos(1000)"
   ]
  },
  {
   "cell_type": "markdown",
   "metadata": {},
   "source": [
    "### Punto C"
   ]
  },
  {
   "cell_type": "code",
   "execution_count": null,
   "metadata": {},
   "outputs": [],
   "source": [
    "#n3: numero de sucesión a calcular\n",
    "def calculo_fibonnacci(n3):"
   ]
  }
 ],
 "metadata": {
  "kernelspec": {
   "display_name": "Python 3",
   "language": "python",
   "name": "python3"
  },
  "language_info": {
   "codemirror_mode": {
    "name": "ipython",
    "version": 3
   },
   "file_extension": ".py",
   "mimetype": "text/x-python",
   "name": "python",
   "nbconvert_exporter": "python",
   "pygments_lexer": "ipython3",
   "version": "3.7.6"
  }
 },
 "nbformat": 4,
 "nbformat_minor": 4
}
